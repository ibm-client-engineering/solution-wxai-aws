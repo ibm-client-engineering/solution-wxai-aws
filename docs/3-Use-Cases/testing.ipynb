{
 "cells": [
  {
   "cell_type": "code",
   "execution_count": null,
   "metadata": {},
   "outputs": [],
   "source": [
    "import requests \n",
    "import json\n",
    "import pandas as pd\n",
    "import os\n",
    "from dotenv import load_dotenv\n",
    "load_dotenv()"
   ]
  },
  {
   "cell_type": "code",
   "execution_count": null,
   "metadata": {},
   "outputs": [],
   "source": [
    "#Credentials\n",
    "API_KEY = os.getenv(\"API_KEY\")\n",
    "ENDPOINT = os.getenv(\"ENDPOINT\")\n",
    "CLIENT = os.getenv(\"CLIENT\")\n",
    "COLLECTION_ID_OCR = os.getenv(\"COLLECTION_ID_OCR\")\n",
    "COLLECTION_ID_PREPROCESSING = os.getenv(\"COLLECTION_ID_PREPROCESSING\")\n",
    "COLLECTION_ID_NO_PREPROCESSING = os.getenv(\"COLLECTION_ID_NO_PREPROCESSING\")\n",
    "\n",
    "\n",
    "#Intializing\n",
    "final_df_questions = []\n",
    "final_df_expected_responses = []\n",
    "final_df_expected_documents = []\n",
    "ns_answers = []\n",
    "documents_retrieved = []\n",
    "processing_ocr_type = []\n"
   ]
  },
  {
   "cell_type": "code",
   "execution_count": null,
   "metadata": {},
   "outputs": [],
   "source": [
    "def seek_api(input, api_key, url, collection_id, client_name): \n",
    "    \n",
    "    url += '/seek'\n",
    "\n",
    "    headers = {\n",
    "            'accept': 'application/json',\n",
    "            'apikey': api_key,\n",
    "            'Content-Type': 'application/json'\n",
    "            }\n",
    "    \n",
    "    payload = {\n",
    "        'question': f'{input}',\n",
    "        'options': {\n",
    "            'filter': collection_id,\n",
    "            'company': client_name\n",
    "        }\n",
    "    }\n",
    "    \n",
    "    response = requests.post(url, headers=headers, json=payload)\n",
    "    return response\n",
    "\n",
    "def generate_answers(preprocessing, ocr, collection_id, questions, sources, expected_responses):\n",
    "    message = \"\"\n",
    "    if ocr:\n",
    "        message = \"Using OCR\"\n",
    "    else:\n",
    "        if preprocessing:\n",
    "            message = \"Using Pre-Processing, No OCR\"\n",
    "        else:\n",
    "            message = \"No Pre-Processing, No OCR\"\n",
    "\n",
    "    for i in range(0, len(questions)):\n",
    "        try:\n",
    "            response = seek_api(questions[i], API_KEY, ENDPOINT, collection_id, CLIENT)\n",
    "            json = response.json()\n",
    "            answer = json['answer']\n",
    "            document_retrieved = json['document']\n",
    "            \n",
    "            ns_answers.append(answer)\n",
    "            documents_retrieved.append(document_retrieved)\n",
    "            final_df_questions.append(questions[i])\n",
    "            final_df_expected_documents.append(sources[i])\n",
    "            final_df_expected_responses.append(expected_responses[i])\n",
    "            processing_ocr_type.append(message) \n",
    "        except:\n",
    "            ns_answers.append(\"NS API ERROR\")\n",
    "            documents_retrieved.append(\"NS API ERROR\")\n",
    "            final_df_questions.append(questions[i])\n",
    "            final_df_expected_documents.append(sources[i])\n",
    "            final_df_expected_responses.append(expected_responses[i])        \n",
    "            processing_ocr_type.append(message)"
   ]
  },
  {
   "cell_type": "code",
   "execution_count": null,
   "metadata": {},
   "outputs": [],
   "source": [
    "# Fill in below with your questions, expected sources, and expected responses\n",
    "questions = []\n",
    "\n",
    "sources = [] \n",
    "\n",
    "expected_responses = []"
   ]
  },
  {
   "cell_type": "markdown",
   "metadata": {},
   "source": [
    "# Pre-Processing, No OCR"
   ]
  },
  {
   "cell_type": "code",
   "execution_count": null,
   "metadata": {},
   "outputs": [],
   "source": [
    "generate_answers(True, False, COLLECTION_ID_PREPROCESSING, questions, sources, expected_responses)"
   ]
  },
  {
   "cell_type": "markdown",
   "metadata": {},
   "source": [
    "# No Pre-Processing, No OCR"
   ]
  },
  {
   "cell_type": "code",
   "execution_count": null,
   "metadata": {},
   "outputs": [],
   "source": [
    "generate_answers(False, False, COLLECTION_ID_NO_PREPROCESSING, questions, sources, expected_responses)"
   ]
  },
  {
   "cell_type": "markdown",
   "metadata": {},
   "source": [
    "# Using OCR"
   ]
  },
  {
   "cell_type": "code",
   "execution_count": null,
   "metadata": {},
   "outputs": [],
   "source": [
    "generate_answers(False, True, COLLECTION_ID_OCR, questions, sources, expected_responses)"
   ]
  },
  {
   "cell_type": "code",
   "execution_count": null,
   "metadata": {},
   "outputs": [],
   "source": [
    "dict={'Question Asked': final_df_questions, \n",
    "      'NS Response': ns_answers, \n",
    "      'Expected Response': final_df_expected_responses, \n",
    "      'NS Document Retrieved': documents_retrieved, \n",
    "      'Expected Source Doc': final_df_expected_documents, \n",
    "      'processing_ocr_type': processing_ocr_type\n",
    "      }\n",
    "df = pd.DataFrame(dict)"
   ]
  },
  {
   "cell_type": "code",
   "execution_count": null,
   "metadata": {},
   "outputs": [],
   "source": [
    "df"
   ]
  },
  {
   "cell_type": "code",
   "execution_count": null,
   "metadata": {},
   "outputs": [],
   "source": [
    "for elem in [final_df_questions, ns_answers, final_df_expected_responses, documents_retrieved,final_df_expected_documents, processing_ocr_type]:\n",
    "    print(len(elem))"
   ]
  },
  {
   "cell_type": "code",
   "execution_count": null,
   "metadata": {},
   "outputs": [],
   "source": [
    "df.head()"
   ]
  },
  {
   "cell_type": "code",
   "execution_count": null,
   "metadata": {},
   "outputs": [],
   "source": [
    "df.to_csv('~/Desktop/testing.csv', index=False)"
   ]
  }
 ],
 "metadata": {
  "kernelspec": {
   "display_name": "genai",
   "language": "python",
   "name": "python3"
  },
  "language_info": {
   "codemirror_mode": {
    "name": "ipython",
    "version": 3
   },
   "file_extension": ".py",
   "mimetype": "text/x-python",
   "name": "python",
   "nbconvert_exporter": "python",
   "pygments_lexer": "ipython3",
   "version": "3.9.18"
  }
 },
 "nbformat": 4,
 "nbformat_minor": 2
}
